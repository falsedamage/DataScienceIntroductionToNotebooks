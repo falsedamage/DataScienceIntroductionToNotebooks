{
 "cells": [
  {
   "cell_type": "markdown",
   "id": "7bba0297-fcc8-41fb-88e8-51aba1c1133f",
   "metadata": {},
   "source": [
    "# Data Science Tools and Ecosystem"
   ]
  },
  {
   "cell_type": "markdown",
   "id": "e558e4ce-4c10-4489-bc3f-5f296c45ca3b",
   "metadata": {},
   "source": [
    "In this notebook, Data Science Tools and Ecosystem are summarized."
   ]
  },
  {
   "cell_type": "markdown",
   "id": "8d3b43a7-8ea4-438f-a488-5c591c1be3ac",
   "metadata": {},
   "source": [
    "Objectives:\n",
    "- List popular Data Science Languages\n",
    "- List commonly used Data Science Libraries\n",
    "- List popular Data Science tools in a tabular format\n",
    "- Exaluate Mathematical expressions using Python in the notebook."
   ]
  },
  {
   "cell_type": "markdown",
   "id": "ee2a52c6-0a5b-4fdf-a3f5-115effe9606f",
   "metadata": {},
   "source": [
    "Some of the popular languages that Data Scientists use are:\n",
    "1. Python\n",
    "2. R\n",
    "3. Julia\n",
    "4. Scala"
   ]
  },
  {
   "cell_type": "markdown",
   "id": "f32ea6ef-fb88-471c-a591-9f97728483d2",
   "metadata": {},
   "source": [
    "Some of the commonly used libraries used by Data Scientists include:\n",
    "1. matplotlib\n",
    "2. pandas\n",
    "3. ggplot\n",
    "4. numpy\n",
    "5. plotly"
   ]
  },
  {
   "cell_type": "markdown",
   "id": "8e90a68b-a6f1-4441-888d-315de7b92e9f",
   "metadata": {},
   "source": [
    "|Data Science Tools|\n",
    "|-----------------|\n",
    "|TensorFlow|\n",
    "|RStudio|\n",
    "|JupyterLab|"
   ]
  },
  {
   "cell_type": "markdown",
   "id": "f72d5e87-0d57-4fbc-b9bb-f495ab5c08bf",
   "metadata": {},
   "source": [
    "### Below are a few examples of evaluating arithmetic expressions in Python"
   ]
  },
  {
   "cell_type": "code",
   "execution_count": 1,
   "id": "bcd246d1-5ac0-4625-91ad-5f8e7a403ac8",
   "metadata": {},
   "outputs": [
    {
     "data": {
      "text/plain": [
       "17"
      ]
     },
     "execution_count": 1,
     "metadata": {},
     "output_type": "execute_result"
    }
   ],
   "source": [
    "# This a simple arithmetic expression to mutiply then add integers.\n",
    "(3*4)+5"
   ]
  },
  {
   "cell_type": "code",
   "execution_count": 2,
   "id": "bdf928c5-00ce-41f5-9be4-53a8dd016774",
   "metadata": {},
   "outputs": [
    {
     "data": {
      "text/plain": [
       "3.3333333333333335"
      ]
     },
     "execution_count": 2,
     "metadata": {},
     "output_type": "execute_result"
    }
   ],
   "source": [
    "#  This will convert 200 minutes to hours by diving by 60\n",
    "hours = 200/60\n",
    "hours"
   ]
  },
  {
   "cell_type": "markdown",
   "id": "4062a6e3-1101-4b55-b673-c731a8fdfba0",
   "metadata": {},
   "source": [
    "## Author\n",
    "Dawanlamchwamio Nongkynrih"
   ]
  }
 ],
 "metadata": {
  "kernelspec": {
   "display_name": "Python 3 (ipykernel)",
   "language": "python",
   "name": "python3"
  },
  "language_info": {
   "codemirror_mode": {
    "name": "ipython",
    "version": 3
   },
   "file_extension": ".py",
   "mimetype": "text/x-python",
   "name": "python",
   "nbconvert_exporter": "python",
   "pygments_lexer": "ipython3",
   "version": "3.13.5"
  }
 },
 "nbformat": 4,
 "nbformat_minor": 5
}
